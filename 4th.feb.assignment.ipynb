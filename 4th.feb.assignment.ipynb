{
 "cells": [
  {
   "cell_type": "markdown",
   "id": "b5f8c349-9ede-42e8-817e-e580bbd17c41",
   "metadata": {},
   "source": [
    "1. Create a python program to sort the given list of tuples based on integer value using alambda function.[('Sachin Tendulkar', 34357), ('Ricky Ponting', 27483), ('Jack Kallis', 25534), ('Virat Kohli', 24936)]\n",
    "ANS:\n",
    "data = [('Sachin Tendulkar', 34357), ('Ricky Ponting', 27483), ('Jack Kallis', 25534), ('Virat Kohli', 24936)]\n",
    "\n",
    "sorted_data = sorted(data, key=lambda x: x[1])\n",
    "\n",
    "print(sorted_data)\n",
    "\n",
    "2. Write a Python Program to find the squares of all the numbers in the given list of integers usinglambda and map functions.\n",
    "[1, 2, 3, 4, 5, 6, 7, 8, 9, 10]\n",
    "ANS:numbers = [1, 2, 3, 4, 5, 6, 7, 8, 9, 10]\n",
    "\n",
    "# Using lambda and map to find squares\n",
    "squares = list(map(lambda x: x**2, numbers))\n",
    "\n",
    "print(\"Original List:\", numbers)\n",
    "print(\"Squares List:\", squares)\n",
    "\n",
    "3. Write a python program to convert the given list of integers into a tuple of strings. Use map andlambda functionsGiven String: [1, 2, 3, 4, 5, 6, 7, 8, 9, 10]Expected output: ('1', '2', '3', '4', '5', '6', '7', '8', '9', '10')\n",
    "\n",
    "ANS:# Given list of integers\n",
    "integer_list = [1, 2, 3, 4, 5, 6, 7, 8, 9, 10]\n",
    "\n",
    "# Using map and lambda to convert integers to strings\n",
    "string_tuple = tuple(map(lambda x: str(x), integer_list))\n",
    "\n",
    "# Print the result\n",
    "print(string_tuple)\n",
    "\n",
    "4. Write a python program using reduce function to compute the product of a list containing numbersfrom 1 to 25.\n",
    "ANS:from functools import reduce\n",
    "\n",
    "# Generate a list of numbers from 1 to 25\n",
    "numbers = list(range(1, 26))\n",
    "\n",
    "# Use reduce to compute the product of the list\n",
    "product = reduce(lambda x, y: x * y, numbers)\n",
    "\n",
    "# Print the result\n",
    "print(\"Product:\", product)\n",
    "\n",
    "5. Write a python program to filter the numbers in a given list that are divisible by 2 and 3 using thefilter function.[2, 3, 6, 9, 27, 60, 90, 120, 55, 46]\n",
    "ANS: numbers = [2, 3, 6, 9, 27, 60, 90, 120, 55, 46]\n",
    "\n",
    "filtered_numbers = list(filter(lambda x: x % 2 == 0 and x % 3 == 0, numbers))\n",
    "\n",
    "print(filtered_numbers)\n",
    "\n",
    "6. Write a python program to find palindromes in the given list of strings using lambda and filterfunction.['python', 'php', 'aba', 'radar', 'level']\n",
    "ANS: words = ['python', 'php', 'aba', 'radar', 'level']\n",
    "\n",
    "palindromes = list(filter(lambda x: x == x[::-1], words))\n",
    "\n",
    "print(\"Palindromes:\", palindromes)\n"
   ]
  }
 ],
 "metadata": {
  "kernelspec": {
   "display_name": "Python 3 (ipykernel)",
   "language": "python",
   "name": "python3"
  },
  "language_info": {
   "codemirror_mode": {
    "name": "ipython",
    "version": 3
   },
   "file_extension": ".py",
   "mimetype": "text/x-python",
   "name": "python",
   "nbconvert_exporter": "python",
   "pygments_lexer": "ipython3",
   "version": "3.10.8"
  }
 },
 "nbformat": 4,
 "nbformat_minor": 5
}
